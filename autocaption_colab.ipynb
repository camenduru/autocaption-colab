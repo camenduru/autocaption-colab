{
  "cells": [
    {
      "cell_type": "markdown",
      "metadata": {
        "id": "view-in-github"
      },
      "source": [
        "[![Open In Colab](https://colab.research.google.com/assets/colab-badge.svg)](https://colab.research.google.com/github/camenduru/autocaption-colab/blob/main/autocaption_colab.ipynb)"
      ]
    },
    {
      "cell_type": "code",
      "execution_count": null,
      "metadata": {
        "id": "VjYy0F2gZIPR"
      },
      "outputs": [],
      "source": [
        "!git clone -b dev https://github.com/camenduru/autocaption\n",
        "\n",
        "!apt update -y\n",
        "!apt install -qq imagemagick\n",
        "\n",
        "!pip install -q faster_whisper==0.7.0 ffmpeg==1.4 ffmpeg_python==0.2.0 googletrans==3.1.0a0 openai_whisper==20230314 pydub==0.25.1 \n",
        "!pip install -q spacytextblob==4.0.0 SpeechRecognition==3.10.0 streamlit==1.25.0 streamlit_extras==0.3.0 moviepy==2.0.0.dev2\n",
        "\n",
        "!ldconfig /usr/lib64-nvidia\n",
        "\n",
        "%cd /content/autocaption\n",
        "\n",
        "import os\n",
        "import shlex\n",
        "import subprocess\n",
        "from pathlib import Path\n",
        "from typing import Union\n",
        "\n",
        "!sed -i '/@\\\\*/d' $(identify -list policy | grep 'policy.xml' | awk '{print $NF}') # thanks to @chigozienri ❤\n",
        "\n",
        "os.environ[\"IMAGEMAGICK_BINARY\"] = \"/usr/bin/convert\"\n",
        "id_rsa_file = \"/content/id_rsa\"\n",
        "id_rsa_pub_file = \"/content/id_rsa.pub\"\n",
        "if os.path.exists(id_rsa_file):\n",
        "    os.remove(id_rsa_file)\n",
        "if os.path.exists(id_rsa_pub_file):\n",
        "    os.remove(id_rsa_pub_file)\n",
        "\n",
        "def gen_key(path: Union[str, Path]) -> None:\n",
        "    path = Path(path)\n",
        "    arg_string = f'ssh-keygen -t rsa -b 4096 -N \"\" -q -f {path.as_posix()}'\n",
        "    args = shlex.split(arg_string)\n",
        "    subprocess.run(args, check=True)\n",
        "    path.chmod(0o600)\n",
        "\n",
        "gen_key(id_rsa_file)\n",
        "\n",
        "import threading\n",
        "def tunnel():\n",
        "  !ssh -R 80:127.0.0.1:8501 -o StrictHostKeyChecking=no -i /content/id_rsa remote.moe\n",
        "threading.Thread(target=tunnel, daemon=True).start()\n",
        "\n",
        "!streamlit run app.py"
      ]
    }
  ],
  "metadata": {
    "accelerator": "GPU",
    "colab": {
      "gpuType": "T4",
      "provenance": []
    },
    "kernelspec": {
      "display_name": "Python 3",
      "name": "python3"
    },
    "language_info": {
      "name": "python"
    }
  },
  "nbformat": 4,
  "nbformat_minor": 0
}
